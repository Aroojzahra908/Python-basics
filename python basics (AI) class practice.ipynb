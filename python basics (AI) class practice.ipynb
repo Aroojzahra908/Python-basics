{
 "cells": [
  {
   "cell_type": "code",
   "execution_count": 1,
   "id": "c11ac8d0",
   "metadata": {},
   "outputs": [
    {
     "name": "stdout",
     "output_type": "stream",
     "text": [
      "{'csev': 2, 'cwen': 2, 'zqian': 1}\n"
     ]
    }
   ],
   "source": [
    "counts = dict()\n",
    "names = ['csev', 'cwen', 'csev', 'zqian', 'cwen']\n",
    "for name in names:\n",
    "    if name not in counts:\n",
    "        counts[name] = 1\n",
    "    else:\n",
    "        counts[name] += 1 \n",
    "\n",
    "print(counts)"
   ]
  },
  {
   "cell_type": "code",
   "execution_count": 2,
   "id": "613cbb2d",
   "metadata": {},
   "outputs": [
    {
     "name": "stdout",
     "output_type": "stream",
     "text": [
      "{'csev': 2, 'cwen': 2, 'zqian': 1}\n"
     ]
    }
   ],
   "source": [
    "counts = dict()\n",
    "names = ['csev', 'cwen', 'csev', 'zqian', 'cwen']\n",
    "for name in names:\n",
    "    counts[name] = counts.get(name, 0) + 1\n",
    "print(counts)\n"
   ]
  },
  {
   "cell_type": "code",
   "execution_count": 3,
   "id": "14c0182e",
   "metadata": {},
   "outputs": [
    {
     "name": "stdout",
     "output_type": "stream",
     "text": [
      "Enter a line of text:\n",
      "hi \n",
      "Words: ['hi']\n",
      "Counting...\n",
      "Counts {'hi': 1}\n"
     ]
    }
   ],
   "source": [
    "counts = dict()\n",
    "print('Enter a line of text:')\n",
    "line = input('')\n",
    "words = line.split()\n",
    "print('Words:', words)\n",
    "print('Counting...')\n",
    "for word in words:\n",
    "    counts[word] = counts.get(word,0) + 1\n",
    "print('Counts', counts)"
   ]
  },
  {
   "cell_type": "code",
   "execution_count": 4,
   "id": "0e6e7ea0",
   "metadata": {},
   "outputs": [
    {
     "name": "stdout",
     "output_type": "stream",
     "text": [
      "chuck 1\n",
      "fred 42\n",
      "jan 100\n"
     ]
    }
   ],
   "source": [
    "jjj = { 'chuck' : 1 , 'fred' : 42, 'jan': 100}\n",
    "for aaa,bbb in jjj.items() :   # sequence chng ho skta ha aaa >>> store keys >>>b store values\n",
    "    print(aaa, bbb)"
   ]
  },
  {
   "cell_type": "code",
   "execution_count": 5,
   "id": "745db6f3",
   "metadata": {
    "scrolled": true
   },
   "outputs": [],
   "source": [
    "#name = input('Enter file:')\n",
    "#handle = open(name)\n",
    "#counts = dict()\n",
    "#for line in handle:\n",
    "    #words = line.split()\n",
    "#for word in words:\n",
    "    #counts[word] = counts.get(word,0) + 1"
   ]
  },
  {
   "cell_type": "markdown",
   "id": "23a22dd5",
   "metadata": {},
   "source": [
    "# oop in python "
   ]
  },
  {
   "cell_type": "code",
   "execution_count": 6,
   "id": "605a20b3",
   "metadata": {},
   "outputs": [
    {
     "name": "stdout",
     "output_type": "stream",
     "text": [
      "Roses are red,\n",
      "violets are blue,\n",
      "Sugar is sweet, and so are you.\n"
     ]
    }
   ],
   "source": [
    "class Flower:\n",
    "  color = 'unknown'\n",
    "\n",
    "rose = Flower()\n",
    "rose.color = \"red\"\n",
    "\n",
    "violet = Flower()\n",
    "violet.color = \"blue\"\n",
    "\n",
    "this_pun_is_for_you = \"Sugar is sweet, and so are you.\"\n",
    "\n",
    "print(\"Roses are {},\".format(rose.color)) \n",
    "print(\"violets are {},\".format(violet.color))\n",
    "print(this_pun_is_for_you) \n"
   ]
  },
  {
   "cell_type": "code",
   "execution_count": 7,
   "id": "8ad99e58",
   "metadata": {},
   "outputs": [
    {
     "name": "stdout",
     "output_type": "stream",
     "text": [
      "meow! i am luna! meow\n",
      "meow! i am billa! meow\n"
     ]
    }
   ],
   "source": [
    "class cat:\n",
    "    name = \"\"\n",
    "    def speak(self):\n",
    "        print(\"meow! i am {}! meow\".format (self.name))\n",
    "myluna = cat()\n",
    "myluna.name=\"luna\"\n",
    "myluna.speak()\n",
    "\n",
    "mybilla = cat()\n",
    "mybilla.name=\"billa\"\n",
    "mybilla.speak()"
   ]
  },
  {
   "cell_type": "code",
   "execution_count": 43,
   "id": "1c93c3b9",
   "metadata": {},
   "outputs": [
    {
     "name": "stdout",
     "output_type": "stream",
     "text": [
      "red\n",
      "<__main__.apple object at 0x000001CA61172650>\n"
     ]
    }
   ],
   "source": [
    "class apple:\n",
    "    def __init__(self, color, flavour):\n",
    "        self.color = color\n",
    "        self.flavour= flavour\n",
    "jonagold =apple(\"red\", \"sweet\")\n",
    "print(jonagold.color)\n",
    "print(jonagold)"
   ]
  },
  {
   "cell_type": "code",
   "execution_count": 44,
   "id": "4f56a102",
   "metadata": {},
   "outputs": [
    {
     "name": "stdout",
     "output_type": "stream",
     "text": [
      "red\n",
      "this apple isred and its flavour is sweet\n"
     ]
    }
   ],
   "source": [
    "class apple:\n",
    "    def __init__(self, color, flavour):\n",
    "        self.color = color\n",
    "        self.flavour= flavour\n",
    "    def __str__(self):\n",
    "        return \"this apple is{} and its flavour is {}\" .format(self.color, self.flavour)\n",
    "jonagold =apple(\"red\", \"sweet\")\n",
    "print(jonagold.color)\n",
    "print(jonagold)"
   ]
  },
  {
   "cell_type": "code",
   "execution_count": 59,
   "id": "32a0dc85",
   "metadata": {},
   "outputs": [
    {
     "name": "stdout",
     "output_type": "stream",
     "text": [
      "red\n",
      "this apple isred and its flavour is sweet\n"
     ]
    }
   ],
   "source": [
    "class apple:\n",
    "    \"\"\"sir humy zayada gor rhy thy\"\"\"\n",
    "    def __init__(self, color, flavour):\n",
    "        self.color = color\n",
    "        self.flavour= flavour\n",
    "    def __str__(self):\n",
    "        return \"this apple is{} and its flavour is {}\" .format(self.color, self.flavour)\n",
    "jonagold =apple(\"red\", \"sweet\")\n",
    "print(jonagold.color)\n",
    "print(jonagold)"
   ]
  },
  {
   "cell_type": "code",
   "execution_count": 60,
   "id": "386d7e2f",
   "metadata": {},
   "outputs": [
    {
     "name": "stdout",
     "output_type": "stream",
     "text": [
      "Help on class apple in module __main__:\n",
      "\n",
      "class apple(builtins.object)\n",
      " |  apple(color, flavour)\n",
      " |  \n",
      " |  sir humy zayada gor rhy thy\n",
      " |  \n",
      " |  Methods defined here:\n",
      " |  \n",
      " |  __init__(self, color, flavour)\n",
      " |      Initialize self.  See help(type(self)) for accurate signature.\n",
      " |  \n",
      " |  __str__(self)\n",
      " |      Return str(self).\n",
      " |  \n",
      " |  ----------------------------------------------------------------------\n",
      " |  Data descriptors defined here:\n",
      " |  \n",
      " |  __dict__\n",
      " |      dictionary for instance variables (if defined)\n",
      " |  \n",
      " |  __weakref__\n",
      " |      list of weak references to the object (if defined)\n",
      "\n"
     ]
    }
   ],
   "source": [
    "help(apple) # init doc string we write "
   ]
  },
  {
   "cell_type": "markdown",
   "id": "59212c5e",
   "metadata": {},
   "source": [
    "# inheritance"
   ]
  },
  {
   "cell_type": "code",
   "execution_count": 54,
   "id": "b7caef30",
   "metadata": {},
   "outputs": [
    {
     "name": "stdout",
     "output_type": "stream",
     "text": [
      "Meow! I'm Luna! Meow!\n"
     ]
    }
   ],
   "source": [
    "class Animal:\n",
    " sound=\"\"\n",
    " def __init__(self,name):\n",
    "        self.name=name\n",
    " def speak(self):\n",
    "    print(\"{sound} I'm {name}! {sound}\".format(name=self.name, sound=self.sound))\n",
    "class Cat(Animal):\n",
    " sound=\"Meow!\"\n",
    "myLuna=Cat(\"Luna\")\n",
    "myLuna.speak()\n",
    "    "
   ]
  },
  {
   "cell_type": "code",
   "execution_count": 61,
   "id": "901c24f0",
   "metadata": {},
   "outputs": [
    {
     "name": "stdout",
     "output_type": "stream",
     "text": [
      "Meow! I'm Luna! Meow!\n",
      "Meooo! I'm mily! Meooo!\n"
     ]
    }
   ],
   "source": [
    "# in this case we create two objects:\n",
    "class Animal:\n",
    " sound=\"\"\n",
    " def __init__(self,name):\n",
    "        self.name=name\n",
    " def speak(self):\n",
    "    print(\"{sound} I'm {name}! {sound}\".format(name=self.name, sound=self.sound))\n",
    "class Cat(Animal):\n",
    " sound=\"Meow!\"\n",
    "myLuna=Cat(\"Luna\")\n",
    "myLuna.speak()\n",
    "\n",
    "class Cow(Animal):\n",
    " sound=\"Meooo!\"\n",
    "mycow=Cow(\"mily\")\n",
    "mycow.speak()"
   ]
  },
  {
   "cell_type": "code",
   "execution_count": 63,
   "id": "165e0c58",
   "metadata": {},
   "outputs": [
    {
     "name": "stdout",
     "output_type": "stream",
     "text": [
      "this <__main__.shirt object at 0x000001CA60BD4460> is made of cwen\n"
     ]
    }
   ],
   "source": [
    "class clothing:\n",
    "    material =\"\"\n",
    "    def __init__(self, name):\n",
    "        self.name = name \n",
    "    def checkmaterial(self):\n",
    "        print(\"this {} is made of {}\".format(self,name, self.material))\n",
    "class shirt (clothing):\n",
    "    material=\"cotton\"\n",
    "polo = shirt (\"polo\")\n",
    "polo.checkmaterial()"
   ]
  },
  {
   "cell_type": "markdown",
   "id": "83f8d558",
   "metadata": {},
   "source": [
    "# object composition"
   ]
  },
  {
   "cell_type": "code",
   "execution_count": 64,
   "id": "b5cc1e61",
   "metadata": {},
   "outputs": [],
   "source": [
    "# dictionary >>.key .value .name these are three methods "
   ]
  },
  {
   "cell_type": "code",
   "execution_count": 67,
   "id": "4e0f6e26",
   "metadata": {},
   "outputs": [],
   "source": [
    "# without inheritance we call function  in composition \n",
    "# another class method we call in our class"
   ]
  },
  {
   "cell_type": "markdown",
   "id": "280a278e",
   "metadata": {},
   "source": [
    "# Modules "
   ]
  },
  {
   "cell_type": "code",
   "execution_count": null,
   "id": "d0df1188",
   "metadata": {},
   "outputs": [],
   "source": []
  }
 ],
 "metadata": {
  "kernelspec": {
   "display_name": "Python 3 (ipykernel)",
   "language": "python",
   "name": "python3"
  },
  "language_info": {
   "codemirror_mode": {
    "name": "ipython",
    "version": 3
   },
   "file_extension": ".py",
   "mimetype": "text/x-python",
   "name": "python",
   "nbconvert_exporter": "python",
   "pygments_lexer": "ipython3",
   "version": "3.10.9"
  }
 },
 "nbformat": 4,
 "nbformat_minor": 5
}
